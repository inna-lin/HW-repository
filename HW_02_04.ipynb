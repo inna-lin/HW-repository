{
 "cells": [
  {
   "cell_type": "code",
   "execution_count": 2,
   "metadata": {},
   "outputs": [],
   "source": [
    "import numpy as np"
   ]
  },
  {
   "cell_type": "markdown",
   "metadata": {},
   "source": [
    "1. Створіть одновимірний масив (вектор) з першими 10-ма натуральними числами та виведіть його значення."
   ]
  },
  {
   "cell_type": "code",
   "execution_count": 6,
   "metadata": {},
   "outputs": [
    {
     "data": {
      "text/plain": [
       "array([ 1.,  2.,  3.,  4.,  5.,  6.,  7.,  8.,  9., 10.])"
      ]
     },
     "execution_count": 6,
     "metadata": {},
     "output_type": "execute_result"
    }
   ],
   "source": [
    "a = np.linspace(1, 10, 10)\n",
    "a"
   ]
  },
  {
   "cell_type": "markdown",
   "metadata": {},
   "source": [
    "2.\tСтворіть двовимірний масив (матрицю) розміром 3x3, заповніть його нулями та виведіть його значення."
   ]
  },
  {
   "cell_type": "code",
   "execution_count": 8,
   "metadata": {},
   "outputs": [
    {
     "data": {
      "text/plain": [
       "array([[0., 0., 0.],\n",
       "       [0., 0., 0.],\n",
       "       [0., 0., 0.]])"
      ]
     },
     "execution_count": 8,
     "metadata": {},
     "output_type": "execute_result"
    }
   ],
   "source": [
    "a = np.zeros((3, 3))\n",
    "a"
   ]
  },
  {
   "cell_type": "markdown",
   "metadata": {},
   "source": [
    "3.\tСтворіть масив розміром 5x5, заповніть його випадковими цілими числами в діапазоні від 1 до 10 та виведіть його значення."
   ]
  },
  {
   "cell_type": "code",
   "execution_count": 46,
   "metadata": {},
   "outputs": [
    {
     "name": "stdout",
     "output_type": "stream",
     "text": [
      "[[ 5  8  5  8  5]\n",
      " [ 9  9  3  6  6]\n",
      " [ 8  6 10  8  5]\n",
      " [ 3  8  8  8  4]\n",
      " [ 5  5  1 10  9]]\n"
     ]
    }
   ],
   "source": [
    "a = np.random.randint(1, 11, (5, 5))\n",
    "print(a)"
   ]
  },
  {
   "cell_type": "markdown",
   "metadata": {},
   "source": [
    "4.\tСтворіть масив розміром 4x4, заповніть його випадковими дійсними числами в діапазоні від 0 до 1 та виведіть його значення."
   ]
  },
  {
   "cell_type": "code",
   "execution_count": 49,
   "metadata": {},
   "outputs": [
    {
     "data": {
      "text/plain": [
       "array([[0.07531874, 0.20652514, 0.8751196 , 0.27817171],\n",
       "       [0.45523136, 0.8907884 , 0.11457488, 0.72207699],\n",
       "       [0.15627108, 0.30889061, 0.95260298, 0.02169701],\n",
       "       [0.97574231, 0.61676658, 0.72583763, 0.51884257]])"
      ]
     },
     "execution_count": 49,
     "metadata": {},
     "output_type": "execute_result"
    }
   ],
   "source": [
    "a = np.random.random((4, 4))\n",
    "a"
   ]
  },
  {
   "cell_type": "markdown",
   "metadata": {},
   "source": [
    "5.\tСтворіть два одновимірних масиви розміром 5, заповніть їх випадковими цілими числами в діапазоні від 1 до 10 та виконайте на них поелементні операції додавання, віднімання та множення."
   ]
  },
  {
   "cell_type": "code",
   "execution_count": 51,
   "metadata": {},
   "outputs": [
    {
     "name": "stdout",
     "output_type": "stream",
     "text": [
      "[[10  3  1  3  1]\n",
      " [10  9  5  7  7]\n",
      " [ 8  1 10  7  4]\n",
      " [ 3  8  8  3  2]\n",
      " [ 3  2  8  6  5]]\n",
      "[[ 7  6 10  4  9]\n",
      " [ 7  8  2  7  8]\n",
      " [ 7  4  6  8  4]\n",
      " [ 2  5 10  9  9]\n",
      " [ 9  6  8  1  6]]\n",
      "[[17  9 11  7 10]\n",
      " [17 17  7 14 15]\n",
      " [15  5 16 15  8]\n",
      " [ 5 13 18 12 11]\n",
      " [12  8 16  7 11]]\n",
      "[[ 3 -3 -9 -1 -8]\n",
      " [ 3  1  3  0 -1]\n",
      " [ 1 -3  4 -1  0]\n",
      " [ 1  3 -2 -6 -7]\n",
      " [-6 -4  0  5 -1]]\n",
      "[[70 18 10 12  9]\n",
      " [70 72 10 49 56]\n",
      " [56  4 60 56 16]\n",
      " [ 6 40 80 27 18]\n",
      " [27 12 64  6 30]]\n"
     ]
    }
   ],
   "source": [
    "a = np.random.randint(1, 11, (5, 5))\n",
    "b = np.random.randint(1, 11, (5, 5))\n",
    "print(a)\n",
    "print(b)\n",
    "print(a + b)\n",
    "print(a - b)\n",
    "print(a * b)"
   ]
  },
  {
   "cell_type": "markdown",
   "metadata": {},
   "source": [
    "6.\tСтворіть два вектори розміром 7, заповніть довільними числами та знайдіть їх скалярний добуток."
   ]
  },
  {
   "cell_type": "code",
   "execution_count": 58,
   "metadata": {},
   "outputs": [
    {
     "name": "stdout",
     "output_type": "stream",
     "text": [
      "[5 9 8 6 7 5 0] [9 0 6 9 5 2 9]\n",
      "192\n"
     ]
    }
   ],
   "source": [
    "a = np.random.randint(0, 10, 7)\n",
    "b = np.random.randint(0, 10, 7)\n",
    "print(a, b)\n",
    "print(np.dot(a, b))\n"
   ]
  },
  {
   "cell_type": "markdown",
   "metadata": {},
   "source": [
    "7.\tСтворіть дві матриці розміром 2x2 та 2x3, заповніть їх випадковими цілими числами в діапазоні від 1 до 10 та перемножте їх між собою."
   ]
  },
  {
   "cell_type": "code",
   "execution_count": 16,
   "metadata": {},
   "outputs": [
    {
     "name": "stdout",
     "output_type": "stream",
     "text": [
      "[[2 1]\n",
      " [9 9]]\n",
      "[[2 3 4]\n",
      " [5 2 7]]\n",
      "[[ 9  8 15]\n",
      " [63 45 99]]\n"
     ]
    }
   ],
   "source": [
    "a = np.random.randint(1, 11, (2, 2))\n",
    "b = np.random.randint(1, 11, (2, 3))\n",
    "print(a)\n",
    "print(b)\n",
    "\n",
    "print(np.dot(a, b))\n",
    "\n"
   ]
  },
  {
   "cell_type": "markdown",
   "metadata": {},
   "source": [
    "8.\tСтворіть матрицю розміром 3x3, заповніть її випадковими цілими числами в діапазоні від 1 до 10 та знайдіть її обернену матрицю."
   ]
  },
  {
   "cell_type": "code",
   "execution_count": 13,
   "metadata": {},
   "outputs": [
    {
     "name": "stdout",
     "output_type": "stream",
     "text": [
      "[[ 6 10  5]\n",
      " [ 1  4  1]\n",
      " [10  3  3]]\n",
      "[[-0.14754098  0.24590164  0.16393443]\n",
      " [-0.1147541   0.52459016  0.01639344]\n",
      " [ 0.60655738 -1.3442623  -0.2295082 ]]\n"
     ]
    }
   ],
   "source": [
    "a = np.random.randint(1, 11, (3, 3))\n",
    "a_inv = np.linalg.inv(a)\n",
    "print(a)\n",
    "print(a_inv)"
   ]
  },
  {
   "cell_type": "markdown",
   "metadata": {},
   "source": [
    "9.\tСтворіть матрицю розміром 4x4, заповніть її випадковими дійсними числами в діапазоні від 0 до 1 та транспонуйте її."
   ]
  },
  {
   "cell_type": "code",
   "execution_count": 15,
   "metadata": {},
   "outputs": [
    {
     "name": "stdout",
     "output_type": "stream",
     "text": [
      "[[ 9 10  5  3]\n",
      " [ 5  3  3  1]\n",
      " [ 7  8 10  3]\n",
      " [ 9 10  8  2]]\n",
      "[[ 9  5  7  9]\n",
      " [10  3  8 10]\n",
      " [ 5  3 10  8]\n",
      " [ 3  1  3  2]]\n"
     ]
    }
   ],
   "source": [
    "a = np.random.randint(1, 11, (4, 4))\n",
    "\n",
    "print(a)\n",
    "print(a.T)"
   ]
  },
  {
   "cell_type": "markdown",
   "metadata": {},
   "source": [
    "10.\tСтворіть матрицю розміром 3x4 та вектор розміром 4, заповніть їх випадковими цілими числами в діапазоні від 1 до 10 та перемножте матрицю на вектор."
   ]
  },
  {
   "cell_type": "code",
   "execution_count": 18,
   "metadata": {},
   "outputs": [
    {
     "name": "stdout",
     "output_type": "stream",
     "text": [
      "[[7 7 6 2]\n",
      " [8 2 8 6]\n",
      " [4 2 3 2]]\n",
      "[8 8 3 2]\n",
      "[134 116  61]\n"
     ]
    }
   ],
   "source": [
    "a = np.random.randint(1, 11, (3, 4))\n",
    "b = np.random.randint(1, 11, 4)\n",
    "print(a)\n",
    "print(b)\n",
    "print(np.dot(a, b))"
   ]
  },
  {
   "cell_type": "markdown",
   "metadata": {},
   "source": [
    "11.\tСтворіть матрицю розміром 2x3 та вектор розміром 3, заповніть їх випадковими дійсними числами в діапазоні від 0 до 1 та перемножте матрицю на вектор."
   ]
  },
  {
   "cell_type": "code",
   "execution_count": 21,
   "metadata": {},
   "outputs": [
    {
     "name": "stdout",
     "output_type": "stream",
     "text": [
      "[[0.69196085 0.41741987 0.56604703]\n",
      " [0.47076984 0.93024924 0.81009399]]\n",
      "[0.17077535 0.00446573 0.75418285]\n",
      "[0.5469369  0.69550911]\n"
     ]
    }
   ],
   "source": [
    "a = np.random.random((2, 3))\n",
    "b = np.random.random(3)\n",
    "print(a)\n",
    "print(b)\n",
    "print(np.dot(a, b))"
   ]
  },
  {
   "cell_type": "markdown",
   "metadata": {},
   "source": [
    "12.\tСтворіть дві матриці розміром 2x2, заповніть їх випадковими цілими числами в діапазоні від 1 до 10 та виконайте їхнє поелементне множення."
   ]
  },
  {
   "cell_type": "code",
   "execution_count": 22,
   "metadata": {},
   "outputs": [
    {
     "name": "stdout",
     "output_type": "stream",
     "text": [
      "[[10  6]\n",
      " [ 9 10]]\n",
      "[[1 1]\n",
      " [9 2]]\n",
      "[[10  6]\n",
      " [81 20]]\n"
     ]
    }
   ],
   "source": [
    "a = np.random.randint(1, 11, (2, 2))\n",
    "b = np.random.randint(1, 11, (2, 2))\n",
    "\n",
    "print(a)\n",
    "print(b)\n",
    "print(a * b)"
   ]
  },
  {
   "cell_type": "markdown",
   "metadata": {},
   "source": [
    "13.\tСтворіть дві матриці розміром 2x2, заповніть їх випадковими цілими числами в діапазоні від 1 до 10 та знайдіть їх добуток."
   ]
  },
  {
   "cell_type": "code",
   "execution_count": 23,
   "metadata": {},
   "outputs": [
    {
     "name": "stdout",
     "output_type": "stream",
     "text": [
      "[[2 4]\n",
      " [8 3]]\n",
      "[[8 9]\n",
      " [9 2]]\n",
      "[[52 26]\n",
      " [91 78]]\n"
     ]
    }
   ],
   "source": [
    "a = np.random.randint(1, 11, (2, 2))\n",
    "b = np.random.randint(1, 11, (2, 2))\n",
    "\n",
    "print(a)\n",
    "print(b)\n",
    "print(np.dot(a, b))"
   ]
  },
  {
   "cell_type": "markdown",
   "metadata": {},
   "source": [
    "14.\tСтворіть матрицю розміром 5x5, заповніть її випадковими цілими числами в діапазоні від 1 до 100 та знайдіть суму елементів матриці."
   ]
  },
  {
   "cell_type": "code",
   "execution_count": 27,
   "metadata": {},
   "outputs": [
    {
     "name": "stdout",
     "output_type": "stream",
     "text": [
      "[[35 57 17 85 85]\n",
      " [ 3 33 50 44 51]\n",
      " [68  9 26 33 80]\n",
      " [97 38 53 35 99]\n",
      " [63 77 28 86 89]]\n",
      "1341\n"
     ]
    }
   ],
   "source": [
    "a = np.random.randint(1, 101, (5, 5))\n",
    "\n",
    "print(a)\n",
    "\n",
    "print(np.sum(a))\n"
   ]
  },
  {
   "cell_type": "markdown",
   "metadata": {},
   "source": [
    "15.\tСтворіть дві матриці розміром 4x4, заповніть їх випадковими цілими числами в діапазоні від 1 до 10 та знайдіть їхню різницю."
   ]
  },
  {
   "cell_type": "code",
   "execution_count": 28,
   "metadata": {},
   "outputs": [
    {
     "name": "stdout",
     "output_type": "stream",
     "text": [
      "[[ 6  4  6 10]\n",
      " [ 4  4 10  1]\n",
      " [ 2  9  6  1]\n",
      " [ 4  6  9  2]]\n",
      "[[ 4  4  8  1]\n",
      " [ 3  3  3  9]\n",
      " [ 8  4  3  9]\n",
      " [ 6  4  1 10]]\n",
      "[[ 2  0 -2  9]\n",
      " [ 1  1  7 -8]\n",
      " [-6  5  3 -8]\n",
      " [-2  2  8 -8]]\n"
     ]
    }
   ],
   "source": [
    "a = np.random.randint(1, 11, (4, 4))\n",
    "b = np.random.randint(1, 11, (4, 4))\n",
    "\n",
    "print(a)\n",
    "print(b)\n",
    "print(a - b)"
   ]
  },
  {
   "cell_type": "markdown",
   "metadata": {},
   "source": [
    "16.\tСтворіть матрицю розміром 3x3, заповніть її випадковими дійсними числами в діапазоні від 0 до 1 та знайдіть вектор-стовпчик, що містить суму елементів кожного рядка матриці."
   ]
  },
  {
   "cell_type": "code",
   "execution_count": 35,
   "metadata": {},
   "outputs": [
    {
     "name": "stdout",
     "output_type": "stream",
     "text": [
      "[[0.52884967 0.21277685 0.86895704]\n",
      " [0.87941387 0.12641138 0.49203855]\n",
      " [0.48851359 0.51478871 0.64712441]]\n",
      "[1.61058357 1.4978638  1.65042671]\n"
     ]
    }
   ],
   "source": [
    "a = np.random.random((3, 3))\n",
    "print(a)\n",
    "\n",
    "print(sum(a.T))"
   ]
  },
  {
   "cell_type": "markdown",
   "metadata": {},
   "source": [
    "17.\tСтворіть матрицю розміром 3x4 з довільними цілими числами і створінь матрицю з квадратами цих чисел."
   ]
  },
  {
   "cell_type": "code",
   "execution_count": 40,
   "metadata": {},
   "outputs": [
    {
     "name": "stdout",
     "output_type": "stream",
     "text": [
      "[[ 4  6  4 10]\n",
      " [ 3 10  5  8]\n",
      " [ 6 10  5 10]]\n",
      "[[ 16  36  16 100]\n",
      " [  9 100  25  64]\n",
      " [ 36 100  25 100]]\n"
     ]
    }
   ],
   "source": [
    "a = np.random.randint(1, 11, (3, 4))\n",
    "a_sq = a ** 2\n",
    "print(a)\n",
    "print(a_sq)"
   ]
  },
  {
   "cell_type": "markdown",
   "metadata": {},
   "source": [
    "18.\tСтворіть вектор розміром 4, заповніть його випадковими цілими числами в діапазоні від 1 до 50 та знайдіть вектор з квадратними коренями цих чисел."
   ]
  },
  {
   "cell_type": "code",
   "execution_count": 43,
   "metadata": {},
   "outputs": [
    {
     "name": "stdout",
     "output_type": "stream",
     "text": [
      "[7 4 4 5]\n",
      "[2.64575131 2.         2.         2.23606798]\n"
     ]
    }
   ],
   "source": [
    "a = np.random.randint(1, 11, 4)\n",
    "a_sq_root = a ** 0.5\n",
    "print(a)\n",
    "print(a_sq_root)"
   ]
  }
 ],
 "metadata": {
  "kernelspec": {
   "display_name": "Python 3",
   "language": "python",
   "name": "python3"
  },
  "language_info": {
   "codemirror_mode": {
    "name": "ipython",
    "version": 3
   },
   "file_extension": ".py",
   "mimetype": "text/x-python",
   "name": "python",
   "nbconvert_exporter": "python",
   "pygments_lexer": "ipython3",
   "version": "3.12.5"
  }
 },
 "nbformat": 4,
 "nbformat_minor": 2
}

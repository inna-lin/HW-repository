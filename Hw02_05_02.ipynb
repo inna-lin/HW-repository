{
 "cells": [
  {
   "cell_type": "code",
   "execution_count": 169,
   "metadata": {},
   "outputs": [],
   "source": [
    "import pandas as pd"
   ]
  },
  {
   "cell_type": "markdown",
   "metadata": {},
   "source": [
    "Прочитайте файл 2017_jun_final.csv (https://docs.google.com/spreadsheets/d/1bclX5PbqE8zR1-wOSM3ZTFa53sIC7RXqwty7Abmw9yQ/edit?gid=1724592523#gid=1724592523) за допомогою методу read_csv\n",
    "Прочитайте отриману таблицю, використовуючи метод head"
   ]
  },
  {
   "cell_type": "code",
   "execution_count": 170,
   "metadata": {},
   "outputs": [
    {
     "name": "stdout",
     "output_type": "stream",
     "text": [
      "   N                    Посада Мова програмування Спеціалізація  \\\n",
      "0  1        Junior QA engineer                NaN     Manual QA   \n",
      "1  2        Junior QA engineer                NaN     Manual QA   \n",
      "2  3         Software Engineer            C#/.NET           NaN   \n",
      "3  4         Software Engineer         JavaScript           NaN   \n",
      "4  5  Senior Software Engineer         JavaScript           NaN   \n",
      "\n",
      "  Загальний досвід роботи Досвід роботи на поточному місці  \\\n",
      "0                     0.5                              0.5   \n",
      "1         менше 3 місяців                  менше 3 місяців   \n",
      "2                       4                                1   \n",
      "3                       5                                4   \n",
      "4       10 і більше років                              0.5   \n",
      "\n",
      "   Зарплата на місяць  Зміна зарплати за 12 місяців   Місто   Розмір компанії  \\\n",
      "0                 400                             0  Харків        до 10 осіб   \n",
      "1                 430                           130  Харків  більше 1000 осіб   \n",
      "2                2500                           800    Київ      до 1000 осіб   \n",
      "3                2000                           400   Одеса       до 200 осіб   \n",
      "4                4500                           500    Інше        до 10 осіб   \n",
      "\n",
      "   ... Ще студент                    Рівень англійської  \\\n",
      "0  ...       True    Pre-intermediate (нище середнього)   \n",
      "1  ...       True  Upper-Intermediate (вище середнього)   \n",
      "2  ...      False               Intermediate (середній)   \n",
      "3  ...      False    Pre-intermediate (нище середнього)   \n",
      "4  ...      False               Intermediate (середній)   \n",
      "\n",
      "                   Предметна область      Дата заповнення  \\\n",
      "0                      iOS,eCommerce  12/06/2017 12:38:08   \n",
      "1                       Веб-розробка  12/06/2017 12:42:51   \n",
      "2  Веб-розробка,Корпоративні системи  12/06/2017 13:02:47   \n",
      "3  Desktop Applications,Веб-розробка  12/06/2017 13:03:01   \n",
      "4  Desktop Applications,Веб-розробка  12/06/2017 13:03:47   \n",
      "\n",
      "                                          User.Agent   exp current_job_exp  \\\n",
      "0  Mozilla/5.0 (Windows NT 10.0; Win64; x64) Appl...   0.5             0.5   \n",
      "1  Mozilla/5.0 (iPad; CPU OS 10_2_1 like Mac OS X...   0.0             0.0   \n",
      "2  Mozilla/5.0 (Windows NT 10.0; Win64; x64) Appl...   4.0             1.0   \n",
      "3  Mozilla/5.0 (Windows NT 6.1; Win64; x64) Apple...   5.0             4.0   \n",
      "4  Mozilla/5.0 (iPhone; CPU iPhone OS 10_3_2 like...  10.0             0.5   \n",
      "\n",
      "  salary Валюта  cls  \n",
      "0    400    NaN   QA  \n",
      "1    430    NaN   QA  \n",
      "2   2500    NaN  DEV  \n",
      "3   2000    NaN  DEV  \n",
      "4   4500    NaN  DEV  \n",
      "\n",
      "[5 rows x 25 columns]\n"
     ]
    }
   ],
   "source": [
    "\n",
    "url = 'https://docs.google.com/spreadsheets/d/1bclX5PbqE8zR1-wOSM3ZTFa53sIC7RXqwty7Abmw9yQ/export?format=csv&gid=1724592523' \n",
    "df = pd.read_csv(url)\n",
    "\n",
    "print(df.head())\n",
    "\n"
   ]
  },
  {
   "cell_type": "markdown",
   "metadata": {},
   "source": [
    "Визначте розмір таблиці за допомогою методу shape"
   ]
  },
  {
   "cell_type": "code",
   "execution_count": 171,
   "metadata": {},
   "outputs": [
    {
     "data": {
      "text/plain": [
       "(8704, 25)"
      ]
     },
     "execution_count": 171,
     "metadata": {},
     "output_type": "execute_result"
    }
   ],
   "source": [
    "df.shape"
   ]
  },
  {
   "cell_type": "markdown",
   "metadata": {},
   "source": [
    "Визначте типи всіх стовпців за допомогою dataframe.dtypes"
   ]
  },
  {
   "cell_type": "code",
   "execution_count": 172,
   "metadata": {},
   "outputs": [
    {
     "data": {
      "text/plain": [
       "N                                     int64\n",
       "Посада                               object\n",
       "Мова програмування                   object\n",
       "Спеціалізація                        object\n",
       "Загальний досвід роботи              object\n",
       "Досвід роботи на поточному місці     object\n",
       "Зарплата на місяць                    int64\n",
       "Зміна зарплати за 12 місяців          int64\n",
       "Місто                                object\n",
       "Розмір компанії                      object\n",
       "Тип компанії                         object\n",
       "Стать                                object\n",
       "Вік                                   int64\n",
       "Освіта                               object\n",
       "Університет                          object\n",
       "Ще студент                             bool\n",
       "Рівень англійської                   object\n",
       "Предметна область                    object\n",
       "Дата заповнення                      object\n",
       "User.Agent                           object\n",
       "exp                                 float64\n",
       "current_job_exp                     float64\n",
       "salary                                int64\n",
       "Валюта                               object\n",
       "cls                                  object\n",
       "dtype: object"
      ]
     },
     "execution_count": 172,
     "metadata": {},
     "output_type": "execute_result"
    }
   ],
   "source": [
    "df.dtypes"
   ]
  },
  {
   "cell_type": "markdown",
   "metadata": {},
   "source": [
    "Порахуйте, яка частка пропусків міститься в кожній колонці (використовуйте методи isnull та sum)"
   ]
  },
  {
   "cell_type": "code",
   "execution_count": 173,
   "metadata": {},
   "outputs": [
    {
     "name": "stdout",
     "output_type": "stream",
     "text": [
      "N                                      0\n",
      "Посада                                 0\n",
      "Мова програмування                  3850\n",
      "Спеціалізація                       7219\n",
      "Загальний досвід роботи                0\n",
      "Досвід роботи на поточному місці       0\n",
      "Зарплата на місяць                     0\n",
      "Зміна зарплати за 12 місяців           0\n",
      "Місто                                  0\n",
      "Розмір компанії                        0\n",
      "Тип компанії                           0\n",
      "Стать                                  0\n",
      "Вік                                    0\n",
      "Освіта                                 0\n",
      "Університет                          358\n",
      "Ще студент                             0\n",
      "Рівень англійської                     0\n",
      "Предметна область                    223\n",
      "Дата заповнення                        0\n",
      "User.Agent                             0\n",
      "exp                                    0\n",
      "current_job_exp                        0\n",
      "salary                                 0\n",
      "Валюта                              8694\n",
      "cls                                 1574\n",
      "dtype: int64\n"
     ]
    }
   ],
   "source": [
    "df_count_isna = df.isna().sum()\n",
    "\n",
    "print(df_count_isna)"
   ]
  },
  {
   "cell_type": "markdown",
   "metadata": {},
   "source": [
    "Видаліть усі стовпці з пропусками, крім стовпця \"Мова програмування\""
   ]
  },
  {
   "cell_type": "code",
   "execution_count": 174,
   "metadata": {},
   "outputs": [
    {
     "name": "stdout",
     "output_type": "stream",
     "text": [
      "['Мова програмування']\n"
     ]
    }
   ],
   "source": [
    "# Залишаємо лише стовпець \"Мова програмування\", навіть якщо там є пропуски\n",
    "columns_to_keep = [\"Мова програмування\"]\n",
    "print(columns_to_keep)\n",
    "# Видаляємо всі інші стовпці з пропусками\n",
    "df_cleaned = df.dropna(axis=1, how='any').join(df[columns_to_keep])\n"
   ]
  },
  {
   "cell_type": "markdown",
   "metadata": {},
   "source": [
    "Знову порахуйте, яка частка пропусків міститься в кожній колонці і переконайтеся, що залишився тільки стовпець \"Мова.програмування\""
   ]
  },
  {
   "cell_type": "code",
   "execution_count": 175,
   "metadata": {},
   "outputs": [
    {
     "name": "stdout",
     "output_type": "stream",
     "text": [
      "N                                      0\n",
      "Посада                                 0\n",
      "Загальний досвід роботи                0\n",
      "Досвід роботи на поточному місці       0\n",
      "Зарплата на місяць                     0\n",
      "Зміна зарплати за 12 місяців           0\n",
      "Місто                                  0\n",
      "Розмір компанії                        0\n",
      "Тип компанії                           0\n",
      "Стать                                  0\n",
      "Вік                                    0\n",
      "Освіта                                 0\n",
      "Ще студент                             0\n",
      "Рівень англійської                     0\n",
      "Дата заповнення                        0\n",
      "User.Agent                             0\n",
      "exp                                    0\n",
      "current_job_exp                        0\n",
      "salary                                 0\n",
      "Мова програмування                  3850\n",
      "dtype: int64\n"
     ]
    }
   ],
   "source": [
    "df_cleaned_count_isna = df_cleaned.isna().sum()\n",
    "\n",
    "print(df_cleaned_count_isna)"
   ]
  },
  {
   "cell_type": "markdown",
   "metadata": {},
   "source": [
    "Видаліть усі рядки у вихідній таблиці за допомогою методу dropna"
   ]
  },
  {
   "cell_type": "code",
   "execution_count": 176,
   "metadata": {},
   "outputs": [],
   "source": [
    "df_cleaned = df_cleaned.dropna()"
   ]
  },
  {
   "cell_type": "code",
   "execution_count": 177,
   "metadata": {},
   "outputs": [
    {
     "name": "stdout",
     "output_type": "stream",
     "text": [
      "N                                   0\n",
      "Посада                              0\n",
      "Загальний досвід роботи             0\n",
      "Досвід роботи на поточному місці    0\n",
      "Зарплата на місяць                  0\n",
      "Зміна зарплати за 12 місяців        0\n",
      "Місто                               0\n",
      "Розмір компанії                     0\n",
      "Тип компанії                        0\n",
      "Стать                               0\n",
      "Вік                                 0\n",
      "Освіта                              0\n",
      "Ще студент                          0\n",
      "Рівень англійської                  0\n",
      "Дата заповнення                     0\n",
      "User.Agent                          0\n",
      "exp                                 0\n",
      "current_job_exp                     0\n",
      "salary                              0\n",
      "Мова програмування                  0\n",
      "dtype: int64\n"
     ]
    }
   ],
   "source": [
    "df_cleaned_count_isna = df_cleaned.isna().sum()\n",
    "\n",
    "print(df_cleaned_count_isna)"
   ]
  },
  {
   "cell_type": "markdown",
   "metadata": {},
   "source": [
    "Визначте новий розмір таблиці за допомогою методу shape"
   ]
  },
  {
   "cell_type": "code",
   "execution_count": 178,
   "metadata": {},
   "outputs": [
    {
     "data": {
      "text/plain": [
       "(4854, 20)"
      ]
     },
     "execution_count": 178,
     "metadata": {},
     "output_type": "execute_result"
    }
   ],
   "source": [
    "df_cleaned.shape"
   ]
  },
  {
   "cell_type": "markdown",
   "metadata": {},
   "source": [
    "Створіть нову таблицю python_data, в якій будуть тільки рядки зі спеціалістами, які вказали мову програмування Python"
   ]
  },
  {
   "cell_type": "code",
   "execution_count": 179,
   "metadata": {},
   "outputs": [
    {
     "name": "stdout",
     "output_type": "stream",
     "text": [
      "         N                    Посада Загальний досвід роботи  \\\n",
      "12      13         Software Engineer                       1   \n",
      "68      69         Software Engineer                     1.5   \n",
      "87      88  Junior Software Engineer                     0.5   \n",
      "114    115  Junior Software Engineer                     1.5   \n",
      "143    144  Junior Software Engineer                       1   \n",
      "...    ...                       ...                     ...   \n",
      "8546  8547         Software Engineer                       5   \n",
      "8625  8626         Software Engineer                       4   \n",
      "8635  8636  Senior Software Engineer       10 і більше років   \n",
      "8673  8674  Junior Software Engineer                     0.5   \n",
      "8695  8696         Software Engineer                       1   \n",
      "\n",
      "     Досвід роботи на поточному місці  Зарплата на місяць  \\\n",
      "12                    менше 3 місяців                 800   \n",
      "68                                0.5                 900   \n",
      "87                                0.5                 600   \n",
      "114                               0.5                 685   \n",
      "143                                 1                 750   \n",
      "...                               ...                 ...   \n",
      "8546                                1                2000   \n",
      "8625                                1                1750   \n",
      "8635                  менше 3 місяців                4000   \n",
      "8673                              0.5                 350   \n",
      "8695                              0.5                1500   \n",
      "\n",
      "      Зміна зарплати за 12 місяців      Місто   Розмір компанії  \\\n",
      "12                             200       Київ        до 50 осіб   \n",
      "68                             900       Київ        до 10 осіб   \n",
      "87                               0       Київ        до 10 осіб   \n",
      "114                            250       Київ      до 1000 осіб   \n",
      "143                            250       Київ        до 10 осіб   \n",
      "...                            ...        ...               ...   \n",
      "8546                           800  Запоріжжя        до 50 осіб   \n",
      "8625                             0       Київ  більше 1000 осіб   \n",
      "8635                          1300  Віддалено        до 10 осіб   \n",
      "8673                            50       Київ        до 50 осіб   \n",
      "8695                          1000       Київ        до 10 осіб   \n",
      "\n",
      "       Тип компанії     Стать  Вік        Освіта  Ще студент  \\\n",
      "12    Аутсорсингова  чоловіча   26          Вища       False   \n",
      "68          Стартап  чоловіча   21  Неповна Вища        True   \n",
      "87    Аутсорсингова  чоловіча   19  Неповна Вища        True   \n",
      "114   Аутсорсингова  чоловіча   21  Неповна Вища       False   \n",
      "143   Аутсорсингова  чоловіча   21  Неповна Вища        True   \n",
      "...             ...       ...  ...           ...         ...   \n",
      "8546  Аутсорсингова  чоловіча   22  Неповна Вища       False   \n",
      "8625  Аутсорсингова  чоловіча   28       Середня       False   \n",
      "8635        Стартап  чоловіча   33          Вища       False   \n",
      "8673  Аутсорсингова  чоловіча   22          Вища       False   \n",
      "8695        Стартап  чоловіча   29          Вища       False   \n",
      "\n",
      "                        Рівень англійської      Дата заповнення  \\\n",
      "12      Pre-intermediate (нище середнього)  12/06/2017 13:05:54   \n",
      "68    Upper-Intermediate (вище середнього)  12/06/2017 13:11:17   \n",
      "87    Upper-Intermediate (вище середнього)  12/06/2017 13:12:25   \n",
      "114                Intermediate (середній)  12/06/2017 13:14:52   \n",
      "143   Upper-Intermediate (вище середнього)  12/06/2017 13:19:10   \n",
      "...                                    ...                  ...   \n",
      "8546               Intermediate (середній)  10/07/2017 14:11:26   \n",
      "8625               Intermediate (середній)  11/07/2017 16:15:40   \n",
      "8635  Upper-Intermediate (вище середнього)  11/07/2017 17:51:36   \n",
      "8673               Intermediate (середній)   12/07/2017 9:37:16   \n",
      "8695               Intermediate (середній)  12/07/2017 14:39:21   \n",
      "\n",
      "                                             User.Agent   exp  \\\n",
      "12    Mozilla/5.0 (Windows NT 6.1; Win64; x64) Apple...   1.0   \n",
      "68    Mozilla/5.0 (Windows NT 10.0; Win64; x64) Appl...   1.5   \n",
      "87    Mozilla/5.0 (X11; Linux x86_64) AppleWebKit/53...   0.5   \n",
      "114   Mozilla/5.0 (X11; Linux x86_64) AppleWebKit/53...   1.5   \n",
      "143   Mozilla/5.0 (X11; Linux x86_64) AppleWebKit/53...   1.0   \n",
      "...                                                 ...   ...   \n",
      "8546  Mozilla/5.0 (Macintosh; Intel Mac OS X 10_12_5...   5.0   \n",
      "8625  Mozilla/5.0 (X11; Ubuntu; Linux x86_64; rv:54....   4.0   \n",
      "8635  Mozilla/5.0 (X11; Linux x86_64) AppleWebKit/53...  10.0   \n",
      "8673  Mozilla/5.0 (X11; Ubuntu; Linux x86_64; rv:54....   0.5   \n",
      "8695  Mozilla/5.0 (X11; Linux x86_64) AppleWebKit/53...   1.0   \n",
      "\n",
      "      current_job_exp  salary Мова програмування  \n",
      "12                0.0     800             Python  \n",
      "68                0.5     900             Python  \n",
      "87                0.5     600             Python  \n",
      "114               0.5     685             Python  \n",
      "143               1.0     750             Python  \n",
      "...               ...     ...                ...  \n",
      "8546              1.0    2000             Python  \n",
      "8625              1.0    1750             Python  \n",
      "8635              0.0    4000             Python  \n",
      "8673              0.5     350             Python  \n",
      "8695              0.5    1500             Python  \n",
      "\n",
      "[207 rows x 20 columns]\n"
     ]
    }
   ],
   "source": [
    "df_py = df_cleaned[df_cleaned['Мова програмування'] == \"Python\"]\n",
    "\n",
    "print(df_py)"
   ]
  },
  {
   "cell_type": "markdown",
   "metadata": {},
   "source": [
    "Визначте розмір таблиці python_data за допомогою методу shape"
   ]
  },
  {
   "cell_type": "code",
   "execution_count": 180,
   "metadata": {},
   "outputs": [
    {
     "data": {
      "text/plain": [
       "(207, 20)"
      ]
     },
     "execution_count": 180,
     "metadata": {},
     "output_type": "execute_result"
    }
   ],
   "source": [
    "df_py.shape"
   ]
  },
  {
   "cell_type": "markdown",
   "metadata": {},
   "source": [
    "Використовуючи метод groupby, виконайте групування за стовпчиком \"Посада\""
   ]
  },
  {
   "cell_type": "code",
   "execution_count": 181,
   "metadata": {},
   "outputs": [
    {
     "name": "stdout",
     "output_type": "stream",
     "text": [
      "         N                    Посада Загальний досвід роботи  \\\n",
      "12      13         Software Engineer                       1   \n",
      "68      69         Software Engineer                     1.5   \n",
      "87      88  Junior Software Engineer                     0.5   \n",
      "114    115  Junior Software Engineer                     1.5   \n",
      "143    144  Junior Software Engineer                       1   \n",
      "...    ...                       ...                     ...   \n",
      "8546  8547         Software Engineer                       5   \n",
      "8625  8626         Software Engineer                       4   \n",
      "8635  8636  Senior Software Engineer       10 і більше років   \n",
      "8673  8674  Junior Software Engineer                     0.5   \n",
      "8695  8696         Software Engineer                       1   \n",
      "\n",
      "     Досвід роботи на поточному місці  Зарплата на місяць  \\\n",
      "12                    менше 3 місяців                 800   \n",
      "68                                0.5                 900   \n",
      "87                                0.5                 600   \n",
      "114                               0.5                 685   \n",
      "143                                 1                 750   \n",
      "...                               ...                 ...   \n",
      "8546                                1                2000   \n",
      "8625                                1                1750   \n",
      "8635                  менше 3 місяців                4000   \n",
      "8673                              0.5                 350   \n",
      "8695                              0.5                1500   \n",
      "\n",
      "      Зміна зарплати за 12 місяців      Місто   Розмір компанії  \\\n",
      "12                             200       Київ        до 50 осіб   \n",
      "68                             900       Київ        до 10 осіб   \n",
      "87                               0       Київ        до 10 осіб   \n",
      "114                            250       Київ      до 1000 осіб   \n",
      "143                            250       Київ        до 10 осіб   \n",
      "...                            ...        ...               ...   \n",
      "8546                           800  Запоріжжя        до 50 осіб   \n",
      "8625                             0       Київ  більше 1000 осіб   \n",
      "8635                          1300  Віддалено        до 10 осіб   \n",
      "8673                            50       Київ        до 50 осіб   \n",
      "8695                          1000       Київ        до 10 осіб   \n",
      "\n",
      "       Тип компанії     Стать  Вік        Освіта  Ще студент  \\\n",
      "12    Аутсорсингова  чоловіча   26          Вища       False   \n",
      "68          Стартап  чоловіча   21  Неповна Вища        True   \n",
      "87    Аутсорсингова  чоловіча   19  Неповна Вища        True   \n",
      "114   Аутсорсингова  чоловіча   21  Неповна Вища       False   \n",
      "143   Аутсорсингова  чоловіча   21  Неповна Вища        True   \n",
      "...             ...       ...  ...           ...         ...   \n",
      "8546  Аутсорсингова  чоловіча   22  Неповна Вища       False   \n",
      "8625  Аутсорсингова  чоловіча   28       Середня       False   \n",
      "8635        Стартап  чоловіча   33          Вища       False   \n",
      "8673  Аутсорсингова  чоловіча   22          Вища       False   \n",
      "8695        Стартап  чоловіча   29          Вища       False   \n",
      "\n",
      "                        Рівень англійської      Дата заповнення  \\\n",
      "12      Pre-intermediate (нище середнього)  12/06/2017 13:05:54   \n",
      "68    Upper-Intermediate (вище середнього)  12/06/2017 13:11:17   \n",
      "87    Upper-Intermediate (вище середнього)  12/06/2017 13:12:25   \n",
      "114                Intermediate (середній)  12/06/2017 13:14:52   \n",
      "143   Upper-Intermediate (вище середнього)  12/06/2017 13:19:10   \n",
      "...                                    ...                  ...   \n",
      "8546               Intermediate (середній)  10/07/2017 14:11:26   \n",
      "8625               Intermediate (середній)  11/07/2017 16:15:40   \n",
      "8635  Upper-Intermediate (вище середнього)  11/07/2017 17:51:36   \n",
      "8673               Intermediate (середній)   12/07/2017 9:37:16   \n",
      "8695               Intermediate (середній)  12/07/2017 14:39:21   \n",
      "\n",
      "                                             User.Agent   exp  \\\n",
      "12    Mozilla/5.0 (Windows NT 6.1; Win64; x64) Apple...   1.0   \n",
      "68    Mozilla/5.0 (Windows NT 10.0; Win64; x64) Appl...   1.5   \n",
      "87    Mozilla/5.0 (X11; Linux x86_64) AppleWebKit/53...   0.5   \n",
      "114   Mozilla/5.0 (X11; Linux x86_64) AppleWebKit/53...   1.5   \n",
      "143   Mozilla/5.0 (X11; Linux x86_64) AppleWebKit/53...   1.0   \n",
      "...                                                 ...   ...   \n",
      "8546  Mozilla/5.0 (Macintosh; Intel Mac OS X 10_12_5...   5.0   \n",
      "8625  Mozilla/5.0 (X11; Ubuntu; Linux x86_64; rv:54....   4.0   \n",
      "8635  Mozilla/5.0 (X11; Linux x86_64) AppleWebKit/53...  10.0   \n",
      "8673  Mozilla/5.0 (X11; Ubuntu; Linux x86_64; rv:54....   0.5   \n",
      "8695  Mozilla/5.0 (X11; Linux x86_64) AppleWebKit/53...   1.0   \n",
      "\n",
      "      current_job_exp  salary Мова програмування  \n",
      "12                0.0     800             Python  \n",
      "68                0.5     900             Python  \n",
      "87                0.5     600             Python  \n",
      "114               0.5     685             Python  \n",
      "143               1.0     750             Python  \n",
      "...               ...     ...                ...  \n",
      "8546              1.0    2000             Python  \n",
      "8625              1.0    1750             Python  \n",
      "8635              0.0    4000             Python  \n",
      "8673              0.5     350             Python  \n",
      "8695              0.5    1500             Python  \n",
      "\n",
      "[207 rows x 20 columns]\n"
     ]
    }
   ],
   "source": [
    "df_py.groupby(\"Посада\")\n",
    "\n",
    "print(df_py)"
   ]
  },
  {
   "cell_type": "markdown",
   "metadata": {},
   "source": [
    "Створіть новий DataFrame, де для згрупованих даних за стовпчиком \"Посада\", виконайте агрегацію даних за допомогою методу agg і знайдіть мінімальне та максимальне значення у стовпчику \"Зарплата.в.місяць\""
   ]
  },
  {
   "cell_type": "code",
   "execution_count": 182,
   "metadata": {},
   "outputs": [
    {
     "name": "stdout",
     "output_type": "stream",
     "text": [
      "                          min_salary  max_salary\n",
      "Посада                                          \n",
      "Junior Software Engineer         100        1250\n",
      "Senior Software Engineer        1300        9200\n",
      "Software Engineer                500        5400\n",
      "System Architect                3000        5000\n",
      "Technical Lead                  1425        6200\n"
     ]
    }
   ],
   "source": [
    "df_grouped = df_py.groupby(\"Посада\").agg(\n",
    "    min_salary=pd.NamedAgg(column='Зарплата на місяць', aggfunc='min'),\n",
    "    max_salary=pd.NamedAgg(column='Зарплата на місяць', aggfunc='max')\n",
    ")\n",
    "\n",
    "print(df_grouped)"
   ]
  },
  {
   "cell_type": "markdown",
   "metadata": {},
   "source": [
    "Створіть функцію fill_avg_salary, яка повертатиме середнє значення заробітної плати на місяць. Використовуйте її для методу apply та створіть новий стовпчик \"avg\""
   ]
  },
  {
   "cell_type": "code",
   "execution_count": 183,
   "metadata": {},
   "outputs": [
    {
     "name": "stdout",
     "output_type": "stream",
     "text": [
      "                          min_salary  max_salary     avg\n",
      "Посада                                                  \n",
      "Junior Software Engineer         100        1250   675.0\n",
      "Senior Software Engineer        1300        9200  5250.0\n",
      "Software Engineer                500        5400  2950.0\n",
      "System Architect                3000        5000  4000.0\n",
      "Technical Lead                  1425        6200  3812.5\n"
     ]
    }
   ],
   "source": [
    "# Створюємо функцію для обчислення середньої зарплати\n",
    "def fill_avg_salary(row):\n",
    "    return (row['min_salary'] + row['max_salary']) / 2\n",
    "\n",
    "# Додаємо новий стовпчик із середньою зарплатою\n",
    "df_grouped['avg'] = df_grouped.apply(fill_avg_salary, axis=1)\n",
    "\n",
    "print(df_grouped)\n"
   ]
  },
  {
   "cell_type": "markdown",
   "metadata": {},
   "source": [
    "Створіть описову статистику за допомогою методу describe для нового стовпчика."
   ]
  },
  {
   "cell_type": "code",
   "execution_count": 184,
   "metadata": {},
   "outputs": [
    {
     "name": "stdout",
     "output_type": "stream",
     "text": [
      "count       5.000000\n",
      "mean     3337.500000\n",
      "std      1700.091909\n",
      "min       675.000000\n",
      "25%      2950.000000\n",
      "50%      3812.500000\n",
      "75%      4000.000000\n",
      "max      5250.000000\n",
      "Name: avg, dtype: float64\n"
     ]
    }
   ],
   "source": [
    "statistics = df_grouped['avg'].describe()\n",
    "\n",
    "print(statistics)"
   ]
  },
  {
   "cell_type": "markdown",
   "metadata": {},
   "source": [
    "Збережіть отриману таблицю в CSV файл"
   ]
  },
  {
   "cell_type": "code",
   "execution_count": 185,
   "metadata": {},
   "outputs": [],
   "source": [
    "statistics.to_csv('salary_statistics.csv', index=True, encoding='utf-8')"
   ]
  }
 ],
 "metadata": {
  "kernelspec": {
   "display_name": "Python 3",
   "language": "python",
   "name": "python3"
  },
  "language_info": {
   "codemirror_mode": {
    "name": "ipython",
    "version": 3
   },
   "file_extension": ".py",
   "mimetype": "text/x-python",
   "name": "python",
   "nbconvert_exporter": "python",
   "pygments_lexer": "ipython3",
   "version": "3.12.5"
  }
 },
 "nbformat": 4,
 "nbformat_minor": 2
}

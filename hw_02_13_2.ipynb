{
  "cells": [
    {
      "cell_type": "markdown",
      "source": [
        " У завданні 2 використано VGG16.   Однак VGG16 вимагає багато ресурсів, тому я використала розмір зображення 48×48. В результаті я не змогла досягти бажаного збільшення точності у навчанні."
      ],
      "metadata": {
        "id": "-8ujc03Y7kgN"
      }
    },
    {
      "cell_type": "code",
      "execution_count": null,
      "metadata": {
        "id": "ShBRZbBaXGpy"
      },
      "outputs": [],
      "source": [
        "import tensorflow as tf\n",
        "from tensorflow.keras import layers, models\n",
        "from tensorflow.keras.applications import VGG16\n",
        "from tensorflow.keras.preprocessing.image import ImageDataGenerator\n",
        "from tensorflow.keras.optimizers import Adam\n",
        "from tensorflow.keras.callbacks import EarlyStopping\n",
        "from tensorflow.keras import datasets\n",
        "import numpy as np\n",
        "import gc"
      ]
    },
    {
      "cell_type": "code",
      "execution_count": null,
      "metadata": {
        "colab": {
          "base_uri": "https://localhost:8080/"
        },
        "id": "bN8h16F7XL_X",
        "outputId": "17082daf-973c-43b2-e144-e963f320e842"
      },
      "outputs": [
        {
          "output_type": "execute_result",
          "data": {
            "text/plain": [
              "0"
            ]
          },
          "metadata": {},
          "execution_count": 2
        }
      ],
      "source": [
        "tf.keras.backend.clear_session()\n",
        "gc.collect()"
      ]
    },
    {
      "cell_type": "code",
      "source": [
        "(x_train, y_train), (x_test, y_test) = datasets.fashion_mnist.load_data()\n",
        "\n",
        "TRAIN_SAMPLES = 30000\n",
        "x_train = x_train[:TRAIN_SAMPLES]\n",
        "y_train = y_train[:TRAIN_SAMPLES]"
      ],
      "metadata": {
        "id": "Pu7G9_ALYyGK",
        "colab": {
          "base_uri": "https://localhost:8080/"
        },
        "outputId": "449521a8-ce29-4f9f-f5f4-40fe085b6c1f"
      },
      "execution_count": null,
      "outputs": [
        {
          "output_type": "stream",
          "name": "stdout",
          "text": [
            "Downloading data from https://storage.googleapis.com/tensorflow/tf-keras-datasets/train-labels-idx1-ubyte.gz\n",
            "\u001b[1m29515/29515\u001b[0m \u001b[32m━━━━━━━━━━━━━━━━━━━━\u001b[0m\u001b[37m\u001b[0m \u001b[1m0s\u001b[0m 0us/step\n",
            "Downloading data from https://storage.googleapis.com/tensorflow/tf-keras-datasets/train-images-idx3-ubyte.gz\n",
            "\u001b[1m26421880/26421880\u001b[0m \u001b[32m━━━━━━━━━━━━━━━━━━━━\u001b[0m\u001b[37m\u001b[0m \u001b[1m0s\u001b[0m 0us/step\n",
            "Downloading data from https://storage.googleapis.com/tensorflow/tf-keras-datasets/t10k-labels-idx1-ubyte.gz\n",
            "\u001b[1m5148/5148\u001b[0m \u001b[32m━━━━━━━━━━━━━━━━━━━━\u001b[0m\u001b[37m\u001b[0m \u001b[1m0s\u001b[0m 1us/step\n",
            "Downloading data from https://storage.googleapis.com/tensorflow/tf-keras-datasets/t10k-images-idx3-ubyte.gz\n",
            "\u001b[1m4422102/4422102\u001b[0m \u001b[32m━━━━━━━━━━━━━━━━━━━━\u001b[0m\u001b[37m\u001b[0m \u001b[1m0s\u001b[0m 0us/step\n"
          ]
        }
      ]
    },
    {
      "cell_type": "code",
      "source": [
        "x_train = x_train[..., np.newaxis].astype('float32') / 255.0\n",
        "x_test = x_test[..., np.newaxis].astype('float32') / 255.0\n",
        "\n",
        "x_train = tf.image.resize(x_train, (48, 48))\n",
        "x_test = tf.image.resize(x_test, (48, 48))\n",
        "\n",
        "x_train = tf.image.grayscale_to_rgb(x_train)\n",
        "x_test = tf.image.grayscale_to_rgb(x_test)\n",
        "\n",
        "y_train = tf.keras.utils.to_categorical(y_train, 10)\n",
        "y_test = tf.keras.utils.to_categorical(y_test, 10)\n",
        "\n",
        "gc.collect()"
      ],
      "metadata": {
        "colab": {
          "base_uri": "https://localhost:8080/"
        },
        "id": "WY5isRasY64N",
        "outputId": "82f439e9-9841-436a-cc2e-26e6172b52b5"
      },
      "execution_count": null,
      "outputs": [
        {
          "output_type": "execute_result",
          "data": {
            "text/plain": [
              "7"
            ]
          },
          "metadata": {},
          "execution_count": 4
        }
      ]
    },
    {
      "cell_type": "code",
      "source": [
        "# Створення базової моделі\n",
        "base_model = VGG16(\n",
        "    weights='imagenet',\n",
        "    include_top=False,\n",
        "    input_shape=(48, 48, 3)\n",
        ")\n",
        "base_model.trainable = False"
      ],
      "metadata": {
        "id": "9JJBeYkwY_pr",
        "colab": {
          "base_uri": "https://localhost:8080/"
        },
        "outputId": "14c30bb0-61a2-44c4-f330-b2b2e4bb51ac"
      },
      "execution_count": null,
      "outputs": [
        {
          "output_type": "stream",
          "name": "stdout",
          "text": [
            "Downloading data from https://storage.googleapis.com/tensorflow/keras-applications/vgg16/vgg16_weights_tf_dim_ordering_tf_kernels_notop.h5\n",
            "\u001b[1m58889256/58889256\u001b[0m \u001b[32m━━━━━━━━━━━━━━━━━━━━\u001b[0m\u001b[37m\u001b[0m \u001b[1m1s\u001b[0m 0us/step\n"
          ]
        }
      ]
    },
    {
      "cell_type": "code",
      "source": [
        "# Створення повної моделі\n",
        "inputs = layers.Input(shape=(48, 48, 3))\n",
        "x = base_model(inputs, training=False)\n",
        "x = layers.GlobalAveragePooling2D()(x)\n",
        "x = layers.Dense(256, activation='relu')(x)\n",
        "x = layers.Dropout(0.5)(x)\n",
        "outputs = layers.Dense(10, activation='softmax')(x)\n",
        "\n",
        "model = models.Model(inputs, outputs)"
      ],
      "metadata": {
        "id": "WlGz6GEhZDwE"
      },
      "execution_count": null,
      "outputs": []
    },
    {
      "cell_type": "code",
      "source": [
        "model.compile(\n",
        "    optimizer=Adam(learning_rate=1e-4),\n",
        "    loss='categorical_crossentropy',\n",
        "    metrics=['accuracy']\n",
        ")"
      ],
      "metadata": {
        "id": "AqN-3mCeZFx3"
      },
      "execution_count": null,
      "outputs": []
    },
    {
      "cell_type": "code",
      "source": [
        "datagen = ImageDataGenerator(\n",
        "    rotation_range=10,\n",
        "    width_shift_range=0.1,\n",
        "    height_shift_range=0.1,\n",
        "    horizontal_flip=True,\n",
        "    validation_split=0.2\n",
        ")\n",
        "\n",
        "train_generator = datagen.flow(\n",
        "    x_train, y_train,\n",
        "    batch_size=64,\n",
        "    subset='training'\n",
        ")\n",
        "\n",
        "validation_generator = datagen.flow(\n",
        "    x_train, y_train,\n",
        "    batch_size=64,\n",
        "    subset='validation'\n",
        ")"
      ],
      "metadata": {
        "id": "MeTcMArdZKKd"
      },
      "execution_count": null,
      "outputs": []
    },
    {
      "cell_type": "code",
      "source": [
        "early_stopping = EarlyStopping(\n",
        "    monitor='val_loss',\n",
        "    patience=3,\n",
        "    restore_best_weights=True\n",
        ")"
      ],
      "metadata": {
        "id": "Dyy20q3cZNtZ"
      },
      "execution_count": null,
      "outputs": []
    },
    {
      "cell_type": "code",
      "source": [
        "history = model.fit(\n",
        "    train_generator,\n",
        "    epochs=15,\n",
        "    validation_data=validation_generator,\n",
        "    callbacks=[early_stopping]\n",
        ")"
      ],
      "metadata": {
        "colab": {
          "base_uri": "https://localhost:8080/"
        },
        "id": "pzHTzu7gZP1P",
        "outputId": "82de8c42-e3be-4550-d857-b86f896b7bf0"
      },
      "execution_count": null,
      "outputs": [
        {
          "output_type": "stream",
          "name": "stdout",
          "text": [
            "Epoch 1/15\n"
          ]
        },
        {
          "output_type": "stream",
          "name": "stderr",
          "text": [
            "/usr/local/lib/python3.10/dist-packages/keras/src/trainers/data_adapters/py_dataset_adapter.py:121: UserWarning: Your `PyDataset` class should call `super().__init__(**kwargs)` in its constructor. `**kwargs` can include `workers`, `use_multiprocessing`, `max_queue_size`. Do not pass these arguments to `fit()`, as they will be ignored.\n",
            "  self._warn_if_super_not_called()\n"
          ]
        },
        {
          "output_type": "stream",
          "name": "stdout",
          "text": [
            "\u001b[1m375/375\u001b[0m \u001b[32m━━━━━━━━━━━━━━━━━━━━\u001b[0m\u001b[37m\u001b[0m \u001b[1m855s\u001b[0m 2s/step - accuracy: 0.2865 - loss: 2.0692 - val_accuracy: 0.7295 - val_loss: 0.9824\n",
            "Epoch 2/15\n",
            "\u001b[1m375/375\u001b[0m \u001b[32m━━━━━━━━━━━━━━━━━━━━\u001b[0m\u001b[37m\u001b[0m \u001b[1m851s\u001b[0m 2s/step - accuracy: 0.6612 - loss: 1.0353 - val_accuracy: 0.7625 - val_loss: 0.7552\n",
            "Epoch 3/15\n",
            "\u001b[1m375/375\u001b[0m \u001b[32m━━━━━━━━━━━━━━━━━━━━\u001b[0m\u001b[37m\u001b[0m \u001b[1m859s\u001b[0m 2s/step - accuracy: 0.7081 - loss: 0.8489 - val_accuracy: 0.7718 - val_loss: 0.6752\n",
            "Epoch 4/15\n",
            "\u001b[1m375/375\u001b[0m \u001b[32m━━━━━━━━━━━━━━━━━━━━\u001b[0m\u001b[37m\u001b[0m \u001b[1m898s\u001b[0m 2s/step - accuracy: 0.7431 - loss: 0.7435 - val_accuracy: 0.7768 - val_loss: 0.6345\n",
            "Epoch 5/15\n",
            "\u001b[1m375/375\u001b[0m \u001b[32m━━━━━━━━━━━━━━━━━━━━\u001b[0m\u001b[37m\u001b[0m \u001b[1m882s\u001b[0m 2s/step - accuracy: 0.7504 - loss: 0.7044 - val_accuracy: 0.7887 - val_loss: 0.6040\n",
            "Epoch 6/15\n",
            "\u001b[1m375/375\u001b[0m \u001b[32m━━━━━━━━━━━━━━━━━━━━\u001b[0m\u001b[37m\u001b[0m \u001b[1m883s\u001b[0m 2s/step - accuracy: 0.7561 - loss: 0.6724 - val_accuracy: 0.7968 - val_loss: 0.5779\n",
            "Epoch 7/15\n",
            "\u001b[1m375/375\u001b[0m \u001b[32m━━━━━━━━━━━━━━━━━━━━\u001b[0m\u001b[37m\u001b[0m \u001b[1m917s\u001b[0m 2s/step - accuracy: 0.7651 - loss: 0.6590 - val_accuracy: 0.8048 - val_loss: 0.5626\n",
            "Epoch 8/15\n",
            "\u001b[1m375/375\u001b[0m \u001b[32m━━━━━━━━━━━━━━━━━━━━\u001b[0m\u001b[37m\u001b[0m \u001b[1m919s\u001b[0m 2s/step - accuracy: 0.7749 - loss: 0.6340 - val_accuracy: 0.8070 - val_loss: 0.5441\n",
            "Epoch 9/15\n",
            "\u001b[1m375/375\u001b[0m \u001b[32m━━━━━━━━━━━━━━━━━━━━\u001b[0m\u001b[37m\u001b[0m \u001b[1m931s\u001b[0m 2s/step - accuracy: 0.7778 - loss: 0.6126 - val_accuracy: 0.8122 - val_loss: 0.5388\n",
            "Epoch 10/15\n",
            "\u001b[1m375/375\u001b[0m \u001b[32m━━━━━━━━━━━━━━━━━━━━\u001b[0m\u001b[37m\u001b[0m \u001b[1m883s\u001b[0m 2s/step - accuracy: 0.7882 - loss: 0.6059 - val_accuracy: 0.8148 - val_loss: 0.5293\n",
            "Epoch 11/15\n",
            "\u001b[1m375/375\u001b[0m \u001b[32m━━━━━━━━━━━━━━━━━━━━\u001b[0m\u001b[37m\u001b[0m \u001b[1m920s\u001b[0m 2s/step - accuracy: 0.7888 - loss: 0.5892 - val_accuracy: 0.8125 - val_loss: 0.5252\n",
            "Epoch 12/15\n",
            "\u001b[1m375/375\u001b[0m \u001b[32m━━━━━━━━━━━━━━━━━━━━\u001b[0m\u001b[37m\u001b[0m \u001b[1m947s\u001b[0m 2s/step - accuracy: 0.7894 - loss: 0.5818 - val_accuracy: 0.8210 - val_loss: 0.5072\n",
            "Epoch 13/15\n",
            "\u001b[1m375/375\u001b[0m \u001b[32m━━━━━━━━━━━━━━━━━━━━\u001b[0m\u001b[37m\u001b[0m \u001b[1m911s\u001b[0m 2s/step - accuracy: 0.7934 - loss: 0.5663 - val_accuracy: 0.8148 - val_loss: 0.5088\n",
            "Epoch 14/15\n",
            "\u001b[1m375/375\u001b[0m \u001b[32m━━━━━━━━━━━━━━━━━━━━\u001b[0m\u001b[37m\u001b[0m \u001b[1m885s\u001b[0m 2s/step - accuracy: 0.7934 - loss: 0.5633 - val_accuracy: 0.8193 - val_loss: 0.4984\n",
            "Epoch 15/15\n",
            "\u001b[1m375/375\u001b[0m \u001b[32m━━━━━━━━━━━━━━━━━━━━\u001b[0m\u001b[37m\u001b[0m \u001b[1m879s\u001b[0m 2s/step - accuracy: 0.8013 - loss: 0.5502 - val_accuracy: 0.8168 - val_loss: 0.4912\n"
          ]
        }
      ]
    },
    {
      "cell_type": "code",
      "source": [
        "import matplotlib.pyplot as plt\n",
        "\n",
        "plt.figure(figsize=(12, 4))\n",
        "\n",
        "plt.subplot(1, 2, 1)\n",
        "plt.plot(history.history['accuracy'], label='train')\n",
        "plt.plot(history.history['val_accuracy'], label='val')\n",
        "plt.title('Точність моделі')\n",
        "plt.xlabel('Епоха')\n",
        "plt.ylabel('Точність')\n",
        "plt.legend()\n",
        "\n",
        "plt.subplot(1, 2, 2)\n",
        "plt.plot(history.history['loss'], label='train')\n",
        "plt.plot(history.history['val_loss'], label='val')\n",
        "plt.title('Втрати моделі')\n",
        "plt.xlabel('Епоха')\n",
        "plt.ylabel('Втрати')\n",
        "plt.legend()\n",
        "\n",
        "plt.tight_layout()\n",
        "plt.show()"
      ],
      "metadata": {
        "id": "Ekuu6qqUYUA7",
        "colab": {
          "base_uri": "https://localhost:8080/",
          "height": 395
        },
        "outputId": "bb8c90d2-562d-4862-f4ca-00a7ef0d9191"
      },
      "execution_count": null,
      "outputs": [
        {
          "output_type": "display_data",
          "data": {
            "text/plain": [
              "<Figure size 1200x400 with 2 Axes>"
            ],
            "image/png": "[encoded data removed]"
          },
          "metadata": {}
        }
      ]
    }
  ],
  "metadata": {
    "colab": {
      "provenance": []
    },
    "kernelspec": {
      "display_name": "Python 3",
      "name": "python3"
    },
    "language_info": {
      "name": "python"
    }
  },
  "nbformat": 4,
  "nbformat_minor": 0
}